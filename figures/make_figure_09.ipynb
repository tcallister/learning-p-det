{
 "cells": [
  {
   "cell_type": "code",
   "execution_count": 1,
   "id": "832a4ec7",
   "metadata": {},
   "outputs": [],
   "source": [
    "import arviz as az\n",
    "import matplotlib.pyplot as plt\n",
    "import matplotlib as mpl\n",
    "mpl.style.use(\"plotting.mplstyle\")\n",
    "import numpy as np\n",
    "import sys\n",
    "sys.path.append(\"./../code/\")\n",
    "from tqdm import tqdm\n",
    "import glob,json\n",
    "\n",
    "cbbh = '#1f78b4'\n",
    "cnsbh = '#33a02c'\n",
    "cbns = '#e31a1c'\n",
    "cmisc = '#6a3d9a'"
   ]
  },
  {
   "cell_type": "code",
   "execution_count": 2,
   "id": "538da357",
   "metadata": {},
   "outputs": [],
   "source": [
    "ref_efficiency_bbh = 0.0011009853783046646\n",
    "ref_efficiency_bbh_2 = 0.0006770517089803911\n",
    "ref_efficiency_bns = 0.016052332309165637\n",
    "ref_efficiency_nsbh = 0.011199316130953239\n",
    "\n",
    "n_bbh_ref1 = 3000\n",
    "n_bbh_ref2 = 1000\n",
    "n_bns_ref = 3000\n",
    "n_nsbh_ref = 3000\n",
    "\n",
    "std_bbh_ref1 = np.sqrt(ref_efficiency_bbh/n_bbh_ref1)\n",
    "std_bbh_ref2 = np.sqrt(ref_efficiency_bbh_2/n_bbh_ref2)\n",
    "std_bns_ref = np.sqrt(ref_efficiency_bns/n_bns_ref)\n",
    "std_nsbh_ref = np.sqrt(ref_efficiency_nsbh/n_nsbh_ref)"
   ]
  },
  {
   "cell_type": "code",
   "execution_count": 3,
   "id": "271958fa",
   "metadata": {},
   "outputs": [
    {
     "name": "stdout",
     "output_type": "stream",
     "text": [
      "76\n"
     ]
    }
   ],
   "source": [
    "# Read summary statistics\n",
    "results = []\n",
    "run = 'wrapper_draft_releas_additionalPops_batch_1024_lr_1e-4_altRatios_linearMasses_fullEvents'\n",
    "files = np.sort(glob.glob('./../data/trained_model_tests/{0}/job_*_ks.json'.format(run)))\n",
    "print(len(files))\n",
    "nTrials = len(files)\n",
    "for f in files:\n",
    "    with open(f,'r') as jf:\n",
    "        test = json.load(jf)\n",
    "    results.append(test)\n",
    "    \n",
    "bbh_f1 = np.array([results[i]['BBH']['det_efficiency'] for i in range(nTrials)])\n",
    "bbh_f2 = np.array([results[i]['alt_pop_1']['det_efficiency'] for i in range(nTrials)])\n",
    "bns_f1 = np.array([results[i]['BNS']['det_efficiency'] for i in range(nTrials)])\n",
    "nsbh_f1 = np.array([results[i]['NSBH']['det_efficiency'] for i in range(nTrials)])\n",
    "\n",
    "scaled_bbh_f1_residuals = np.abs(bbh_f1-ref_efficiency_bbh)/std_bbh_ref1\n",
    "scaled_bbh_f2_residuals = np.abs(bbh_f2-ref_efficiency_bbh_2)/std_bbh_ref2\n",
    "scaled_bns_f1_residuals = np.abs(bns_f1-ref_efficiency_bns)/std_bns_ref\n",
    "scaled_nsbh_f1_residuals = np.abs(nsbh_f1-ref_efficiency_nsbh)/std_nsbh_ref\n",
    "\n",
    "full_efficiency_residuals = np.transpose([\n",
    "    scaled_bbh_f1_residuals,\n",
    "    scaled_bbh_f2_residuals,\n",
    "    scaled_bns_f1_residuals,\n",
    "    scaled_nsbh_f1_residuals\n",
    "])\n",
    "max_efficiency_residuals = np.max(full_efficiency_residuals,axis=1)\n",
    "    \n",
    "bbh_m = [results[i]['BBH']['m1_source'] for i in range(nTrials)]\n",
    "bbh_d = [results[i]['BBH']['luminosity_distance'] for i in range(nTrials)]\n",
    "bbh_inc = [results[i]['BBH']['cos_inclination'] for i in range(nTrials)]\n",
    "bns_m = [results[i]['BNS']['m1_source'] for i in range(nTrials)]\n",
    "bns_d = [results[i]['BNS']['luminosity_distance'] for i in range(nTrials)]\n",
    "bns_inc = [results[i]['BNS']['cos_inclination'] for i in range(nTrials)]\n",
    "nsbh_m = [results[i]['NSBH']['m1_source'] for i in range(nTrials)]\n",
    "nsbh_d = [results[i]['NSBH']['luminosity_distance'] for i in range(nTrials)]\n",
    "nsbh_inc = [results[i]['NSBH']['cos_inclination'] for i in range(nTrials)]\n",
    "\n",
    "full_p_values = np.transpose([\n",
    "    bbh_m,\n",
    "    bbh_d,\n",
    "    bbh_inc,\n",
    "    bns_m,\n",
    "    bns_d,\n",
    "    bns_inc,\n",
    "    nsbh_m,\n",
    "    nsbh_d,\n",
    "    nsbh_inc,\n",
    "])\n",
    "min_logp_values = np.log10(np.min(full_p_values,axis=1))"
   ]
  },
  {
   "cell_type": "code",
   "execution_count": 6,
   "id": "cfadc445",
   "metadata": {},
   "outputs": [],
   "source": [
    "jobs = np.array([int(f.split('/')[-1].split('_')[1]) for f in files])\n",
    "ind_to_highlight = np.where(jobs==27)[0]"
   ]
  },
  {
   "cell_type": "code",
   "execution_count": 16,
   "id": "9f991349",
   "metadata": {},
   "outputs": [
    {
     "data": {
      "image/png": "[encoded data removed]",
      "text/plain": [
       "<Figure size 400x300 with 1 Axes>"
      ]
     },
     "metadata": {},
     "output_type": "display_data"
    }
   ],
   "source": [
    "fig,ax = plt.subplots(figsize=(4,3))\n",
    "ax.scatter(max_efficiency_residuals,min_logp_values,s=20,color=cbbh)\n",
    "\n",
    "ax.scatter(max_efficiency_residuals[ind_to_highlight],min_logp_values[ind_to_highlight],\n",
    "           s=100,marker='*',color=cbns)\n",
    "\n",
    "secondaryIndices = np.argsort(min_logp_values)[::-1][1:5]\n",
    "ax.scatter(max_efficiency_residuals[secondaryIndices],min_logp_values[secondaryIndices],\n",
    "           s=75,marker='*',color=cnsbh)\n",
    "\n",
    "ax.set_xlabel('Maximum Standardized Efficiency Residual')\n",
    "ax.set_ylabel('$\\log_{10}$(Minimum KS-Test $p$-value)')\n",
    "ax.set_xlim(0,1)\n",
    "ax.set_ylim(-10,-1)\n",
    "\n",
    "plt.tight_layout()\n",
    "plt.savefig('figure_09.pdf',bbox_inches='tight',dpi=400)"
   ]
  },
  {
   "cell_type": "code",
   "execution_count": 18,
   "id": "b918bb40",
   "metadata": {},
   "outputs": [
    {
     "data": {
      "text/plain": [
       "array([67,  3, 28, 17])"
      ]
     },
     "execution_count": 18,
     "metadata": {},
     "output_type": "execute_result"
    }
   ],
   "source": [
    "jobs[secondaryIndices]"
   ]
  },
  {
   "cell_type": "code",
   "execution_count": 20,
   "id": "28a357c9",
   "metadata": {},
   "outputs": [
    {
     "data": {
      "text/plain": [
       "(array([-1.56045652, -1.57524654, -1.80526599, -1.99618269]),\n",
       " array([0.34409447, 0.46993503, 0.11418469, 0.26199795]))"
      ]
     },
     "execution_count": 20,
     "metadata": {},
     "output_type": "execute_result"
    }
   ],
   "source": [
    "min_logp_values[secondaryIndices],max_efficiency_residuals[secondaryIndices]"
   ]
  },
  {
   "cell_type": "code",
   "execution_count": null,
   "id": "2d823d94",
   "metadata": {},
   "outputs": [],
   "source": []
  }
 ],
 "metadata": {
  "kernelspec": {
   "display_name": "Python 3 (ipykernel)",
   "language": "python",
   "name": "python3"
  },
  "language_info": {
   "codemirror_mode": {
    "name": "ipython",
    "version": 3
   },
   "file_extension": ".py",
   "mimetype": "text/x-python",
   "name": "python",
   "nbconvert_exporter": "python",
   "pygments_lexer": "ipython3",
   "version": "3.8.16"
  }
 },
 "nbformat": 4,
 "nbformat_minor": 5
}
